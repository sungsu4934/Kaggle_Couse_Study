{
 "cells": [
  {
   "cell_type": "markdown",
   "metadata": {},
   "source": [
    "# 머신러닝이 무엇일까?\n",
    "## \"얼마나 집이 가치있을까?\" 를 데이터를 통한 패턴으로 파악하는 것\n",
    "\n",
    "### Decision Tree(의사결정나무) 예시\n",
    " - 모델을 만들 때 들어가는 데이터: Train data\n",
    " - 이 모델이 얼마나 정확한지 알아보는 데이터: Test data\n",
    " - 의사결정나무는 어떤 변수가 가장 유의미한 변수인지 알기 어려운 단점이 있다.\n",
    " - 그러나, 최종 예측값에 대한 해석이 쉽다는 장점이 존재\n",
    " - Split이 많을수록 --> \"Deeper Tree\"\n",
    " - 가장 아래 Node: leaf\n",
    "  "
   ]
  }
 ],
 "metadata": {
  "kernelspec": {
   "display_name": "Python 3",
   "language": "python",
   "name": "python3"
  },
  "language_info": {
   "codemirror_mode": {
    "name": "ipython",
    "version": 3
   },
   "file_extension": ".py",
   "mimetype": "text/x-python",
   "name": "python",
   "nbconvert_exporter": "python",
   "pygments_lexer": "ipython3",
   "version": "3.8.5"
  }
 },
 "nbformat": 4,
 "nbformat_minor": 4
}
