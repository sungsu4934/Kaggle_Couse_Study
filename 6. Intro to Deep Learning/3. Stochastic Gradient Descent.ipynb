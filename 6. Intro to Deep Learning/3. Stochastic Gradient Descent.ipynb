{
 "cells": [
  {
   "cell_type": "markdown",
   "metadata": {},
   "source": [
    "# 딥러닝의 train 원리\n",
    " - 딥러닝에서 초기 weight는 랜덤하게 형성된다. 그렇다면 어떻게 훈련이 되기에 이를 모델링 하여 보여주는 것인가?\n",
    " - 필수개념 두가지\n",
    "   - loss function: 모델이 얼마나 잘 예측하는지 측정\n",
    "   - optimizer: 모델의 weight를 훈련함에 있어 어떤식으로 할 것인지?"
   ]
  },
  {
   "cell_type": "markdown",
   "metadata": {},
   "source": [
    "# 딥러닝 모델에 우리의 목적에 대한 가이드라인을 설명하는 방법: loss function \n",
    " - 예시: MAE\n",
    " - 실제값과 모델이 예측한 값의 차이를 측정"
   ]
  },
  {
   "cell_type": "markdown",
   "metadata": {},
   "source": [
    "# 딥러닝 모델에서 우리의 문제를 해결하기위한 방법: optimizer\n",
    " - loss를 줄이는 방향으로 문제를 해결해나간다.\n",
    " - 절차\n",
    "   - 몇개의 데이터로 훈련 후 예측을 시도\n",
    "   - 예측한 값에 대한 loss를 산출\n",
    "   - loss를 줄이는 방향으로 모델의 weight를 수정\n",
    "  - 위 과정을 내가 원하는 loss가 될 때까지 반복"
   ]
  },
  {
   "cell_type": "markdown",
   "metadata": {},
   "source": [
    "# Batch size & Epoch\n",
    " - Batch size: 딥러닝 모델 훈련 시 몇개의 샘플 데이터로 훈련한다고 말한다. 이 때 몇개를 Batch size라고 말함.\n",
    " - 즉 Batch 단위로 weight를 수정하는 방식\n",
    " - 모든 데이터에 대해 Batch를 나눈 후 이를 모든 train에 활용했다면, 이는 1 epoch를 진행한 것!"
   ]
  },
  {
   "cell_type": "markdown",
   "metadata": {},
   "source": [
    "# Learning rate and Batch size\n",
    " - 얼마나 weight에 변화를 줄 것인지 결정: Learning rate\n",
    " - LR이 작다면, 최적의 모델에 가는 시간이 오래걸릴 것이다. (많은 배치가 필요할 것)\n",
    " - Adam은 현존하는 optimizer 중 최고로 불리며 SGD 알고리즘이나 파라미터 튜닝이 없는 self tuning 알고리즘이다\n",
    " - 배치사이즈가 작을수록 noise에 영향을 받기 쉬움.\n",
    " - 작은 LR은 긴 학습시간을 요구함"
   ]
  },
  {
   "cell_type": "markdown",
   "metadata": {},
   "source": [
    "# SGD의 의미\n",
    " - Stochastic: train에 minibatch는 랜덤하게 선택된다 \n",
    " - Gradient: weight가 학습해야할 방향\n",
    " - Descent: loss를 줄이는 방향으로"
   ]
  },
  {
   "cell_type": "markdown",
   "metadata": {},
   "source": [
    "# 코드로 구현"
   ]
  },
  {
   "cell_type": "code",
   "execution_count": 12,
   "metadata": {},
   "outputs": [],
   "source": [
    "from tensorflow import keras\n",
    "from tensorflow.keras import layers\n",
    "import numpy as np\n",
    "import pandas as pd\n",
    "from sklearn.preprocessing import StandardScaler, OneHotEncoder\n",
    "from sklearn.compose import make_column_transformer, make_column_selector\n",
    "from sklearn.model_selection import train_test_split"
   ]
  },
  {
   "cell_type": "code",
   "execution_count": 24,
   "metadata": {},
   "outputs": [
    {
     "name": "stdout",
     "output_type": "stream",
     "text": [
      "Input shape: [11]\n"
     ]
    }
   ],
   "source": [
    "red_wine = pd.read_csv('./data/red-wine.csv')\n",
    "X = red_wine.copy()\n",
    "y = X.pop('quality')\n",
    "\n",
    "# 파이프라인으로 전처리\n",
    "preprocessor = make_column_transformer(\n",
    "    (StandardScaler(), # 표준화 스케일링: dtype이 numeric인 것들만\n",
    "     make_column_selector(dtype_include=np.number)),\n",
    "    (OneHotEncoder(sparse=False), # Onehotencding: dtype이 object인것만\n",
    "     make_column_selector(dtype_include=object)),\n",
    ")\n",
    "\n",
    "'''\n",
    "pipeline에서 sparse:True면 원 핫 인코딩이 되는 것인가? False면 그냥 1~n까지 값만 부여?\n",
    "타겟변수는 스케일링 대신 로그를 취한다?\n",
    "'''\n",
    "\n",
    "X = preprocessor.fit_transform(X)\n",
    "y = np.log(y)\n",
    "input_shape = [X.shape[1]]\n",
    "print(\"Input shape: {}\".format(input_shape))"
   ]
  },
  {
   "cell_type": "code",
   "execution_count": 25,
   "metadata": {},
   "outputs": [],
   "source": [
    "model = keras.Sequential([\n",
    "    layers.Dense(128, activation='relu', input_shape=input_shape),\n",
    "    layers.Dense(128, activation='relu'),    \n",
    "    layers.Dense(64, activation='relu'),\n",
    "    layers.Dense(1),\n",
    "])"
   ]
  },
  {
   "cell_type": "code",
   "execution_count": 26,
   "metadata": {},
   "outputs": [],
   "source": [
    "model.compile(\n",
    "    optimizer='adam',\n",
    "    loss='mae',\n",
    ")"
   ]
  },
  {
   "cell_type": "code",
   "execution_count": 27,
   "metadata": {
    "scrolled": true
   },
   "outputs": [
    {
     "name": "stdout",
     "output_type": "stream",
     "text": [
      "Epoch 1/10\n",
      "7/7 [==============================] - 0s 3ms/step - loss: 1.1620\n",
      "Epoch 2/10\n",
      "7/7 [==============================] - 0s 2ms/step - loss: 0.5559\n",
      "Epoch 3/10\n",
      "7/7 [==============================] - 0s 1ms/step - loss: 0.4271\n",
      "Epoch 4/10\n",
      "7/7 [==============================] - 0s 997us/step - loss: 0.3842\n",
      "Epoch 5/10\n",
      "7/7 [==============================] - 0s 1ms/step - loss: 0.3271\n",
      "Epoch 6/10\n",
      "7/7 [==============================] - 0s 2ms/step - loss: 0.3033\n",
      "Epoch 7/10\n",
      "7/7 [==============================] - 0s 1ms/step - loss: 0.2830\n",
      "Epoch 8/10\n",
      "7/7 [==============================] - 0s 1ms/step - loss: 0.2599\n",
      "Epoch 9/10\n",
      "7/7 [==============================] - 0s 996us/step - loss: 0.2434\n",
      "Epoch 10/10\n",
      "7/7 [==============================] - 0s 1ms/step - loss: 0.2223\n"
     ]
    }
   ],
   "source": [
    "history = model.fit(\n",
    "    X, y,\n",
    "    batch_size=256,\n",
    "    epochs=10,\n",
    ")"
   ]
  },
  {
   "cell_type": "markdown",
   "metadata": {},
   "source": [
    "##### loss가 계속 줄어들면 train을 계속하는 것이 바람직하나, 어느정도 수렴한다면 끊어주자"
   ]
  },
  {
   "cell_type": "code",
   "execution_count": 28,
   "metadata": {},
   "outputs": [
    {
     "data": {
      "image/png": "[encoded data removed]",
      "text/plain": [
       "<Figure size 432x288 with 1 Axes>"
      ]
     },
     "metadata": {
      "needs_background": "light"
     },
     "output_type": "display_data"
    }
   ],
   "source": [
    "# train의 loss에 대한 값이 저장되어 있음의 loss에 대한 값이 저장되어 있음\n",
    "history_df = pd.DataFrame(history.history)\n",
    "\n",
    "# loss를 plot해보기ot해보기\n",
    "history_df['loss'].plot();"
   ]
  },
  {
   "cell_type": "code",
   "execution_count": 29,
   "metadata": {},
   "outputs": [
    {
     "data": {
      "text/html": [
       "<div>\n",
       "<style scoped>\n",
       "    .dataframe tbody tr th:only-of-type {\n",
       "        vertical-align: middle;\n",
       "    }\n",
       "\n",
       "    .dataframe tbody tr th {\n",
       "        vertical-align: top;\n",
       "    }\n",
       "\n",
       "    .dataframe thead th {\n",
       "        text-align: right;\n",
       "    }\n",
       "</style>\n",
       "<table border=\"1\" class=\"dataframe\">\n",
       "  <thead>\n",
       "    <tr style=\"text-align: right;\">\n",
       "      <th></th>\n",
       "      <th>loss</th>\n",
       "    </tr>\n",
       "  </thead>\n",
       "  <tbody>\n",
       "    <tr>\n",
       "      <th>0</th>\n",
       "      <td>1.161997</td>\n",
       "    </tr>\n",
       "    <tr>\n",
       "      <th>1</th>\n",
       "      <td>0.555950</td>\n",
       "    </tr>\n",
       "    <tr>\n",
       "      <th>2</th>\n",
       "      <td>0.427083</td>\n",
       "    </tr>\n",
       "    <tr>\n",
       "      <th>3</th>\n",
       "      <td>0.384156</td>\n",
       "    </tr>\n",
       "    <tr>\n",
       "      <th>4</th>\n",
       "      <td>0.327050</td>\n",
       "    </tr>\n",
       "    <tr>\n",
       "      <th>5</th>\n",
       "      <td>0.303286</td>\n",
       "    </tr>\n",
       "    <tr>\n",
       "      <th>6</th>\n",
       "      <td>0.283038</td>\n",
       "    </tr>\n",
       "    <tr>\n",
       "      <th>7</th>\n",
       "      <td>0.259932</td>\n",
       "    </tr>\n",
       "    <tr>\n",
       "      <th>8</th>\n",
       "      <td>0.243368</td>\n",
       "    </tr>\n",
       "    <tr>\n",
       "      <th>9</th>\n",
       "      <td>0.222323</td>\n",
       "    </tr>\n",
       "  </tbody>\n",
       "</table>\n",
       "</div>"
      ],
      "text/plain": [
       "       loss\n",
       "0  1.161997\n",
       "1  0.555950\n",
       "2  0.427083\n",
       "3  0.384156\n",
       "4  0.327050\n",
       "5  0.303286\n",
       "6  0.283038\n",
       "7  0.259932\n",
       "8  0.243368\n",
       "9  0.222323"
      ]
     },
     "execution_count": 29,
     "metadata": {},
     "output_type": "execute_result"
    }
   ],
   "source": [
    "history_df"
   ]
  }
 ],
 "metadata": {
  "kernelspec": {
   "display_name": "Python 3",
   "language": "python",
   "name": "python3"
  },
  "language_info": {
   "codemirror_mode": {
    "name": "ipython",
    "version": 3
   },
   "file_extension": ".py",
   "mimetype": "text/x-python",
   "name": "python",
   "nbconvert_exporter": "python",
   "pygments_lexer": "ipython3",
   "version": "3.8.5"
  }
 },
 "nbformat": 4,
 "nbformat_minor": 4
}
