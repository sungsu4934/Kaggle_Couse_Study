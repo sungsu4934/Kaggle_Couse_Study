{
 "cells": [
  {
   "cell_type": "markdown",
   "metadata": {},
   "source": [
    "# Learning Curve (Loss graph)를 보고 해석하는 방법\n",
    " - 모델의 발전방향은?\n",
    " - 과대적합 및 과소적합을 파악하는 방법은?\n",
    "   - Validation Learning Curve를 함께 그려 Training and Validation Learning Curve를 그려보자\n",
    "   \n",
    "### Signal Vs Noise\n",
    " - signal :모델의 일반화 성능\n",
    " - noise :일반화성능이 아닌, train data에서만 true인 데이터로, 현실세계와는 동떨어진 데이터\n",
    "   - signal을 학습하면 train과 validation graph 모두 감소하지만, noise를 학습 시 train만 감소하고, validation은 증가 \n",
    "   \n",
    "### Noise vs Signal에서 Signal이 더 이점이 있으면, Validation Graph는 감소, Noise가 더 이점이 있으면 Validation Graph는 증가!\n",
    "   - 이것이 생기는 포인트가 바로 Overfitting Point(너무 많은 Noise까지 학습한 것)\n",
    "   - cf) Underfitting: Too much Noise or Not enough Signal"
   ]
  },
  {
   "attachments": {
    "image.png": {
     "image/png": "[encoded data removed]"
    }
   },
   "cell_type": "markdown",
   "metadata": {},
   "source": [
    "### 이런 Graph 개형도 Overfitting의 가능성이 있다.\n",
    "![image.png](attachment:image.png)"
   ]
  },
  {
   "cell_type": "markdown",
   "metadata": {},
   "source": [
    "# Capacity: 모델의 크기\n",
    " - Wider: 뉴런수를 많이\n",
    "   - 학습을 더욱 쉽게, 더 많은 선형관계를 지님\n",
    " - Depper: Layer를 많이\n",
    "   - 비선형적인 것을 더욱 학습"
   ]
  },
  {
   "cell_type": "code",
   "execution_count": 5,
   "metadata": {},
   "outputs": [],
   "source": [
    "from tensorflow import keras\n",
    "from keras import layers\n",
    "\n",
    "model = keras.Sequential([\n",
    "    layers.Dense(16, activation='relu'),\n",
    "    layers.Dense(1)\n",
    "])\n",
    "\n",
    "wider = keras.Sequential([\n",
    "    layers.Dense(32, activation='relu'),\n",
    "    layers.Dense(1),\n",
    "])\n",
    "\n",
    "deeper = keras.Sequential([\n",
    "    layers.Dense(16, activation='relu'),\n",
    "    layers.Dense(16, activation='relu'),\n",
    "    layers.Dense(1),\n",
    "])"
   ]
  },
  {
   "cell_type": "markdown",
   "metadata": {},
   "source": [
    "# Early Stopping\n",
    " - 모델이 Noise를 더 학습하기 전에 Stop. 이를 Validation Loss로 파악!\n",
    " - 이를 통해 모델이 덜 학습하거나, noise까지 지나치게 학습하는 경우를 방지할 수 있다.\n",
    " - Early Stopping을 구현하는 경우, Epoch를 충분히 크게해도 상관없다!"
   ]
  },
  {
   "cell_type": "code",
   "execution_count": 7,
   "metadata": {},
   "outputs": [
    {
     "data": {
      "text/plain": [
       "'\\n질문: restore_best_weights 파라미터\\n'"
      ]
     },
     "execution_count": 7,
     "metadata": {},
     "output_type": "execute_result"
    }
   ],
   "source": [
    "'''\n",
    "질문: restore_best_weights 파라미터\n",
    "'''"
   ]
  },
  {
   "cell_type": "markdown",
   "metadata": {},
   "source": [
    "### 파라미터\n",
    " - min_delta: 0.001 만큼의 loss를 학습해야 학습으로 인정한다\n",
    " - restore_best_weights=True: 학습간 가장 최적의 weight를 불러와 학습? (현재 epoch에서 학습이 완료된 것은 폐기한다 인가?)"
   ]
  },
  {
   "cell_type": "code",
   "execution_count": 6,
   "metadata": {},
   "outputs": [],
   "source": [
    "from keras.callbacks import EarlyStopping\n",
    "\n",
    "early_stopping = EarlyStopping( \n",
    "    min_delta = 0.001,\n",
    "    patience=20,\n",
    "    restore_best_weights=True)"
   ]
  },
  {
   "cell_type": "markdown",
   "metadata": {},
   "source": [
    "# 전체 구현"
   ]
  },
  {
   "cell_type": "code",
   "execution_count": 1,
   "metadata": {},
   "outputs": [],
   "source": [
    "import matplotlib.pyplot as plt\n",
    "plt.style.use('seaborn-whitegrid')\n",
    "# Set Matplotlib defaults\n",
    "plt.rc('figure', autolayout=True)\n",
    "plt.rc('axes', labelweight='bold', labelsize='large',\n",
    "       titleweight='bold', titlesize=18, titlepad=10)\n",
    "plt.rc('animation', html='html5')"
   ]
  },
  {
   "cell_type": "code",
   "execution_count": 2,
   "metadata": {},
   "outputs": [
    {
     "data": {
      "text/plain": [
       "'\\n질문: groupshuffle??\\nex) \\nX : 독립변수 #@$%^%\\nY : 비만여부 0, 0, 1, 0, 0\\n그룹: 우울증여부: O, X, O O O , X... 면\\n우울증 여부를 STRATIFIED한다는 것아닌가,,,?\\n'"
      ]
     },
     "execution_count": 2,
     "metadata": {},
     "output_type": "execute_result"
    }
   ],
   "source": [
    "'''\n",
    "질문: groupshuffle??\n",
    "ex) \n",
    "X : 독립변수 #@$%^%\n",
    "Y : 비만여부 0, 0, 1, 0, 0\n",
    "그룹: 우울증여부: O, X, O O O , X... 면\n",
    "우울증 여부를 STRATIFIED한다는 것아닌가,,,?\n",
    "'''"
   ]
  },
  {
   "cell_type": "code",
   "execution_count": 3,
   "metadata": {},
   "outputs": [
    {
     "name": "stdout",
     "output_type": "stream",
     "text": [
      "Input shape: [18]\n"
     ]
    }
   ],
   "source": [
    "import pandas as pd\n",
    "from sklearn.preprocessing import StandardScaler, OneHotEncoder\n",
    "from sklearn.compose import make_column_transformer\n",
    "from sklearn.model_selection import GroupShuffleSplit\n",
    "\n",
    "from tensorflow import keras\n",
    "from tensorflow.keras import layers\n",
    "from tensorflow.keras import callbacks\n",
    "\n",
    "spotify = pd.read_csv('./data/spotify.csv')\n",
    "\n",
    "X = spotify.copy().dropna()\n",
    "y = X.pop('track_popularity')\n",
    "artists = X['track_artist']\n",
    "\n",
    "features_num = ['danceability', 'energy', 'key', 'loudness', 'mode',\n",
    "                'speechiness', 'acousticness', 'instrumentalness',\n",
    "                'liveness', 'valence', 'tempo', 'duration_ms']\n",
    "features_cat = ['playlist_genre']\n",
    "\n",
    "preprocessor = make_column_transformer(\n",
    "    (StandardScaler(), features_num),\n",
    "    (OneHotEncoder(), features_cat),\n",
    ")\n",
    "\n",
    "# We'll do a \"grouped\" split to keep all of an artist's songs in one\n",
    "# split or the other. This is to help prevent signal leakage.\n",
    "def group_split(X, y, group, train_size=0.75):\n",
    "    splitter = GroupShuffleSplit(train_size=train_size)\n",
    "    train, test = next(splitter.split(X, y, groups=group))\n",
    "    return (X.iloc[train], X.iloc[test], y.iloc[train], y.iloc[test])\n",
    "\n",
    "X_train, X_valid, y_train, y_valid = group_split(X, y, artists)\n",
    "\n",
    "X_train = preprocessor.fit_transform(X_train)\n",
    "X_valid = preprocessor.transform(X_valid)\n",
    "y_train = y_train / 100 # popularity is on a scale 0-100, so this rescales to 0-1.\n",
    "y_valid = y_valid / 100\n",
    "\n",
    "input_shape = [X_train.shape[1]]\n",
    "print(\"Input shape: {}\".format(input_shape))"
   ]
  },
  {
   "cell_type": "code",
   "execution_count": 13,
   "metadata": {},
   "outputs": [
    {
     "name": "stdout",
     "output_type": "stream",
     "text": [
      "Epoch 1/50\n",
      "49/49 [==============================] - 0s 4ms/step - loss: 0.2119 - val_loss: 0.2049\n",
      "Epoch 2/50\n",
      "49/49 [==============================] - 0s 2ms/step - loss: 0.1962 - val_loss: 0.2013\n",
      "Epoch 3/50\n",
      "49/49 [==============================] - 0s 2ms/step - loss: 0.1928 - val_loss: 0.2027\n",
      "Epoch 4/50\n",
      "49/49 [==============================] - 0s 2ms/step - loss: 0.1905 - val_loss: 0.2018\n",
      "Epoch 5/50\n",
      "49/49 [==============================] - 0s 2ms/step - loss: 0.1883 - val_loss: 0.2008\n",
      "Epoch 6/50\n",
      "49/49 [==============================] - 0s 2ms/step - loss: 0.1874 - val_loss: 0.1997\n",
      "Epoch 7/50\n",
      "49/49 [==============================] - 0s 2ms/step - loss: 0.1853 - val_loss: 0.2004\n",
      "Epoch 8/50\n",
      "49/49 [==============================] - 0s 2ms/step - loss: 0.1846 - val_loss: 0.1990\n",
      "Epoch 9/50\n",
      "49/49 [==============================] - 0s 2ms/step - loss: 0.1839 - val_loss: 0.1998\n",
      "Epoch 10/50\n",
      "49/49 [==============================] - 0s 2ms/step - loss: 0.1832 - val_loss: 0.2021\n",
      "Epoch 11/50\n",
      "49/49 [==============================] - 0s 2ms/step - loss: 0.1824 - val_loss: 0.1983\n",
      "Epoch 12/50\n",
      "49/49 [==============================] - 0s 2ms/step - loss: 0.1808 - val_loss: 0.1994\n",
      "Epoch 13/50\n",
      "49/49 [==============================] - 0s 2ms/step - loss: 0.1805 - val_loss: 0.2012\n",
      "Epoch 14/50\n",
      "49/49 [==============================] - 0s 2ms/step - loss: 0.1802 - val_loss: 0.2002\n",
      "Epoch 15/50\n",
      "49/49 [==============================] - 0s 1ms/step - loss: 0.1792 - val_loss: 0.2007\n",
      "Epoch 16/50\n",
      "49/49 [==============================] - 0s 2ms/step - loss: 0.1785 - val_loss: 0.2002\n",
      "Minimum Validation Loss: 0.1983\n"
     ]
    },
    {
     "data": {
      "image/png": "[encoded data removed]",
      "text/plain": [
       "<Figure size 432x288 with 1 Axes>"
      ]
     },
     "metadata": {},
     "output_type": "display_data"
    }
   ],
   "source": [
    "model = keras.Sequential([\n",
    "    layers.Dense(128, activation='relu', input_shape=input_shape),\n",
    "    layers.Dense(64, activation='relu'),    \n",
    "    layers.Dense(1)\n",
    "])\n",
    "\n",
    "model.compile(\n",
    "    optimizer='adam',\n",
    "    loss='mae',\n",
    ")\n",
    "\n",
    "early_stopping = EarlyStopping(min_delta=0.001, patience=5, restore_best_weights=True)\n",
    "\n",
    "history = model.fit(\n",
    "    X_train, y_train,\n",
    "    validation_data=(X_valid, y_valid),\n",
    "    batch_size=512,\n",
    "    epochs=50,\n",
    "    callbacks=[early_stopping]\n",
    ")\n",
    "\n",
    "history_df = pd.DataFrame(history.history)\n",
    "history_df.loc[:, ['loss', 'val_loss']].plot()\n",
    "print(\"Minimum Validation Loss: {:0.4f}\".format(history_df['val_loss'].min()));"
   ]
  }
 ],
 "metadata": {
  "kernelspec": {
   "display_name": "Python 3",
   "language": "python",
   "name": "python3"
  },
  "language_info": {
   "codemirror_mode": {
    "name": "ipython",
    "version": 3
   },
   "file_extension": ".py",
   "mimetype": "text/x-python",
   "name": "python",
   "nbconvert_exporter": "python",
   "pygments_lexer": "ipython3",
   "version": "3.8.5"
  }
 },
 "nbformat": 4,
 "nbformat_minor": 4
}
