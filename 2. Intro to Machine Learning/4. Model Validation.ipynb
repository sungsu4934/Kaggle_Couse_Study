{
 "cells": [
  {
   "cell_type": "markdown",
   "metadata": {},
   "source": [
    "# 기본 setting"
   ]
  },
  {
   "cell_type": "code",
   "execution_count": 3,
   "metadata": {},
   "outputs": [],
   "source": [
    "import pandas as pd\n",
    "from sklearn.tree import DecisionTreeRegressor\n",
    "\n",
    "melbourne_file_path = './data/melb_data.csv'\n",
    "melbourne_data = pd.read_csv(melbourne_file_path)\n",
    "\n",
    "melbourne_features = ['Rooms', 'Bathroom', 'Landsize', 'Lattitude', 'Longtitude']\n",
    "X = melbourne_data[melbourne_features]\n",
    "y = melbourne_data.Price\n",
    "\n",
    "melbourne_model = DecisionTreeRegressor(random_state=1) # 1. 모델정의\n",
    "melbourne_model.fit(X, y) # 2. 모델훈련"
   ]
  },
  {
   "cell_type": "markdown",
   "metadata": {},
   "source": [
    "# 당신이 만든 모델은 훌륭한가요?\n",
    "### 모델이 얼마나 잘 만들어졌는지 확인방법 --> Validation\n",
    " - 주의사항: train data로 훈련하고, train data로 test해서는 안돼!\n",
    " - 모델 검증(Validation)에 대한 지표가 필요해. --> MSE, MAE 등의 metric 활용 가능.\n",
    " - EX) MAE: mean(l actual - predicted l)"
   ]
  },
  {
   "cell_type": "code",
   "execution_count": 8,
   "metadata": {},
   "outputs": [
    {
     "data": {
      "text/plain": [
       "1125.1804614629357"
      ]
     },
     "execution_count": 8,
     "metadata": {},
     "output_type": "execute_result"
    }
   ],
   "source": [
    "# 코드를 통한 MAE 구현\n",
    "from sklearn.metrics import mean_absolute_error\n",
    "\n",
    "predicted_home_prices = melbourne_model.predict(X)\n",
    "mean_absolute_error(y, predicted_home_prices)"
   ]
  },
  {
   "cell_type": "markdown",
   "metadata": {},
   "source": [
    "# 문제점은 그저 Sample을 통해 얻은 정보라는 것.\n",
    "\n",
    "### 현실세계에서는 더 다양한 사례가 존재한다.\n",
    " - 이를 확인하기 위해 모델링 시 들어간 train data에서 조금 뗴어내 Valid data를 구성하여 Validation을 실시한다."
   ]
  },
  {
   "cell_type": "code",
   "execution_count": 11,
   "metadata": {},
   "outputs": [
    {
     "name": "stdout",
     "output_type": "stream",
     "text": [
      "247370.32793323512\n"
     ]
    }
   ],
   "source": [
    "# Validation data의 MAE 확인\n",
    "from sklearn.model_selection import train_test_split\n",
    "\n",
    "train_X, val_X, train_y, val_y = train_test_split(X, y, random_state = 0)\n",
    "melbourne_model = DecisionTreeRegressor()\n",
    "melbourne_model.fit(train_X, train_y)\n",
    "\n",
    "val_predictions = melbourne_model.predict(val_X)\n",
    "print(mean_absolute_error(val_y, val_predictions))"
   ]
  },
  {
   "cell_type": "markdown",
   "metadata": {},
   "source": [
    "### train data로 valid 했을 때와 valid data로 valid 했을 때 엄청난 차이를 보여준다. \n",
    "##### 즉, 새로운 데이터가 들어왔을 때, 해당 모델은 일반화 성능이 떨어졌던 것."
   ]
  }
 ],
 "metadata": {
  "kernelspec": {
   "display_name": "Python 3",
   "language": "python",
   "name": "python3"
  },
  "language_info": {
   "codemirror_mode": {
    "name": "ipython",
    "version": 3
   },
   "file_extension": ".py",
   "mimetype": "text/x-python",
   "name": "python",
   "nbconvert_exporter": "python",
   "pygments_lexer": "ipython3",
   "version": "3.8.5"
  }
 },
 "nbformat": 4,
 "nbformat_minor": 4
}
